{
 "cells": [
  {
   "cell_type": "markdown",
   "id": "97ad429b-ec42-45ec-9809-602e6c926480",
   "metadata": {},
   "source": [
    "## Zero-Shot Learning ZSL"
   ]
  },
  {
   "cell_type": "markdown",
   "id": "4b6c901e-0eb5-4f51-bf8f-7780c968dc5f",
   "metadata": {},
   "source": [
    "这里使用 [googleNet](https://pypi.org/project/googlenet-pytorch/#installation) 作为特征提取的深度神经网络"
   ]
  },
  {
   "cell_type": "code",
   "execution_count": 1,
   "id": "3ecb3292-65e8-4c82-a3e9-555cb6d52379",
   "metadata": {},
   "outputs": [
    {
     "name": "stdout",
     "output_type": "stream",
     "text": [
      "Collecting googlenet_pytorch\n",
      "  Downloading googlenet_pytorch-0.3.0-py2.py3-none-any.whl (13 kB)\n",
      "Collecting torch\n",
      "  Downloading torch-1.13.1-cp310-none-macosx_10_9_x86_64.whl (135.3 MB)\n",
      "\u001b[2K     \u001b[38;2;114;156;31m━━━━━━━━━━━━━━━━━━━━━━━━━━━━━━━━━━━━━━━\u001b[0m \u001b[32m135.3/135.3 MB\u001b[0m \u001b[31m3.4 MB/s\u001b[0m eta \u001b[36m0:00:00\u001b[0mm eta \u001b[36m0:00:01\u001b[0m[36m0:00:02\u001b[0m\n",
      "\u001b[?25hCollecting typing-extensions\n",
      "  Using cached typing_extensions-4.4.0-py3-none-any.whl (26 kB)\n",
      "Installing collected packages: typing-extensions, torch, googlenet_pytorch\n",
      "Successfully installed googlenet_pytorch-0.3.0 torch-1.13.1 typing-extensions-4.4.0\n"
     ]
    }
   ],
   "source": [
    "!pip install googlenet_pytorch"
   ]
  },
  {
   "cell_type": "code",
   "execution_count": null,
   "id": "d6ff2b2d-edf5-470b-bcfa-ae7bed647764",
   "metadata": {},
   "outputs": [],
   "source": []
  }
 ],
 "metadata": {
  "kernelspec": {
   "display_name": "Python 3 (ipykernel)",
   "language": "python",
   "name": "python3"
  },
  "language_info": {
   "codemirror_mode": {
    "name": "ipython",
    "version": 3
   },
   "file_extension": ".py",
   "mimetype": "text/x-python",
   "name": "python",
   "nbconvert_exporter": "python",
   "pygments_lexer": "ipython3",
   "version": "3.10.0"
  }
 },
 "nbformat": 4,
 "nbformat_minor": 5
}
